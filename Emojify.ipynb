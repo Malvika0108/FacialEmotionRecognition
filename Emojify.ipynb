{
  "nbformat": 4,
  "nbformat_minor": 0,
  "metadata": {
    "colab": {
      "name": "Emojify.ipynb",
      "provenance": [],
      "collapsed_sections": []
    },
    "kernelspec": {
      "name": "python3",
      "display_name": "Python 3"
    },
    "language_info": {
      "name": "python"
    },
    "accelerator": "GPU"
  },
  "cells": [
    {
      "cell_type": "code",
      "metadata": {
        "id": "07wj-Ao6bxBd",
        "colab": {
          "base_uri": "https://localhost:8080/"
        },
        "outputId": "c44e348e-cbb6-458c-ef12-231df0c96b68"
      },
      "source": [
        "from google.colab import drive\n",
        "drive.mount('/content/drive')   "
      ],
      "execution_count": null,
      "outputs": [
        {
          "output_type": "stream",
          "text": [
            "Mounted at /content/drive\n"
          ],
          "name": "stdout"
        }
      ]
    },
    {
      "cell_type": "code",
      "metadata": {
        "id": "m-UonJ5zeJH1",
        "colab": {
          "base_uri": "https://localhost:8080/"
        },
        "outputId": "46315cef-f2e5-42bd-9fdb-391dd48ce89c"
      },
      "source": [
        "%cd drive/MyDrive/FaceData/"
      ],
      "execution_count": null,
      "outputs": [
        {
          "output_type": "stream",
          "text": [
            "/content/drive/MyDrive/FaceData\n"
          ],
          "name": "stdout"
        }
      ]
    },
    {
      "cell_type": "code",
      "metadata": {
        "id": "zPUu7TlReNPC"
      },
      "source": [
        "import tarfile\n",
        "\n",
        "\n",
        "fname = 'fer2013.tar'\n",
        "if fname.endswith(\"tar\"):\n",
        "    tar = tarfile.open(fname, \"r\")\n",
        "    tar.extractall()\n",
        "    tar.close()"
      ],
      "execution_count": null,
      "outputs": []
    },
    {
      "cell_type": "code",
      "metadata": {
        "id": "OSTroGYcfbWi"
      },
      "source": [
        "import os\n",
        "import numpy as np\n",
        "import tensorflow as tf\n",
        "import pandas as pd\n",
        "import matplotlib.pyplot as plt\n",
        "from sklearn.model_selection import train_test_split"
      ],
      "execution_count": null,
      "outputs": []
    },
    {
      "cell_type": "code",
      "metadata": {
        "colab": {
          "base_uri": "https://localhost:8080/",
          "height": 528
        },
        "id": "exKQGxW-fkaT",
        "outputId": "1bcbb8aa-3bd7-4bff-fedd-997853b48af7"
      },
      "source": [
        "df=pd.read_csv(\"fer2013/fer2013.csv\")\n",
        "df.head()"
      ],
      "execution_count": null,
      "outputs": [
        {
          "output_type": "error",
          "ename": "KeyboardInterrupt",
          "evalue": "ignored",
          "traceback": [
            "\u001b[0;31m---------------------------------------------------------------------------\u001b[0m",
            "\u001b[0;31mKeyboardInterrupt\u001b[0m                         Traceback (most recent call last)",
            "\u001b[0;32m<ipython-input-11-db48323a96ae>\u001b[0m in \u001b[0;36m<module>\u001b[0;34m()\u001b[0m\n\u001b[0;32m----> 1\u001b[0;31m \u001b[0mdf\u001b[0m\u001b[0;34m=\u001b[0m\u001b[0mpd\u001b[0m\u001b[0;34m.\u001b[0m\u001b[0mread_csv\u001b[0m\u001b[0;34m(\u001b[0m\u001b[0;34m\"fer2013/fer2013.csv\"\u001b[0m\u001b[0;34m)\u001b[0m\u001b[0;34m\u001b[0m\u001b[0;34m\u001b[0m\u001b[0m\n\u001b[0m\u001b[1;32m      2\u001b[0m \u001b[0mdf\u001b[0m\u001b[0;34m.\u001b[0m\u001b[0mhead\u001b[0m\u001b[0;34m(\u001b[0m\u001b[0;34m)\u001b[0m\u001b[0;34m\u001b[0m\u001b[0;34m\u001b[0m\u001b[0m\n",
            "\u001b[0;32m/usr/local/lib/python3.7/dist-packages/pandas/io/parsers.py\u001b[0m in \u001b[0;36mread_csv\u001b[0;34m(filepath_or_buffer, sep, delimiter, header, names, index_col, usecols, squeeze, prefix, mangle_dupe_cols, dtype, engine, converters, true_values, false_values, skipinitialspace, skiprows, skipfooter, nrows, na_values, keep_default_na, na_filter, verbose, skip_blank_lines, parse_dates, infer_datetime_format, keep_date_col, date_parser, dayfirst, cache_dates, iterator, chunksize, compression, thousands, decimal, lineterminator, quotechar, quoting, doublequote, escapechar, comment, encoding, dialect, error_bad_lines, warn_bad_lines, delim_whitespace, low_memory, memory_map, float_precision)\u001b[0m\n\u001b[1;32m    686\u001b[0m     )\n\u001b[1;32m    687\u001b[0m \u001b[0;34m\u001b[0m\u001b[0m\n\u001b[0;32m--> 688\u001b[0;31m     \u001b[0;32mreturn\u001b[0m \u001b[0m_read\u001b[0m\u001b[0;34m(\u001b[0m\u001b[0mfilepath_or_buffer\u001b[0m\u001b[0;34m,\u001b[0m \u001b[0mkwds\u001b[0m\u001b[0;34m)\u001b[0m\u001b[0;34m\u001b[0m\u001b[0;34m\u001b[0m\u001b[0m\n\u001b[0m\u001b[1;32m    689\u001b[0m \u001b[0;34m\u001b[0m\u001b[0m\n\u001b[1;32m    690\u001b[0m \u001b[0;34m\u001b[0m\u001b[0m\n",
            "\u001b[0;32m/usr/local/lib/python3.7/dist-packages/pandas/io/parsers.py\u001b[0m in \u001b[0;36m_read\u001b[0;34m(filepath_or_buffer, kwds)\u001b[0m\n\u001b[1;32m    458\u001b[0m \u001b[0;34m\u001b[0m\u001b[0m\n\u001b[1;32m    459\u001b[0m     \u001b[0;32mtry\u001b[0m\u001b[0;34m:\u001b[0m\u001b[0;34m\u001b[0m\u001b[0;34m\u001b[0m\u001b[0m\n\u001b[0;32m--> 460\u001b[0;31m         \u001b[0mdata\u001b[0m \u001b[0;34m=\u001b[0m \u001b[0mparser\u001b[0m\u001b[0;34m.\u001b[0m\u001b[0mread\u001b[0m\u001b[0;34m(\u001b[0m\u001b[0mnrows\u001b[0m\u001b[0;34m)\u001b[0m\u001b[0;34m\u001b[0m\u001b[0;34m\u001b[0m\u001b[0m\n\u001b[0m\u001b[1;32m    461\u001b[0m     \u001b[0;32mfinally\u001b[0m\u001b[0;34m:\u001b[0m\u001b[0;34m\u001b[0m\u001b[0;34m\u001b[0m\u001b[0m\n\u001b[1;32m    462\u001b[0m         \u001b[0mparser\u001b[0m\u001b[0;34m.\u001b[0m\u001b[0mclose\u001b[0m\u001b[0;34m(\u001b[0m\u001b[0;34m)\u001b[0m\u001b[0;34m\u001b[0m\u001b[0;34m\u001b[0m\u001b[0m\n",
            "\u001b[0;32m/usr/local/lib/python3.7/dist-packages/pandas/io/parsers.py\u001b[0m in \u001b[0;36mread\u001b[0;34m(self, nrows)\u001b[0m\n\u001b[1;32m   1196\u001b[0m     \u001b[0;32mdef\u001b[0m \u001b[0mread\u001b[0m\u001b[0;34m(\u001b[0m\u001b[0mself\u001b[0m\u001b[0;34m,\u001b[0m \u001b[0mnrows\u001b[0m\u001b[0;34m=\u001b[0m\u001b[0;32mNone\u001b[0m\u001b[0;34m)\u001b[0m\u001b[0;34m:\u001b[0m\u001b[0;34m\u001b[0m\u001b[0;34m\u001b[0m\u001b[0m\n\u001b[1;32m   1197\u001b[0m         \u001b[0mnrows\u001b[0m \u001b[0;34m=\u001b[0m \u001b[0m_validate_integer\u001b[0m\u001b[0;34m(\u001b[0m\u001b[0;34m\"nrows\"\u001b[0m\u001b[0;34m,\u001b[0m \u001b[0mnrows\u001b[0m\u001b[0;34m)\u001b[0m\u001b[0;34m\u001b[0m\u001b[0;34m\u001b[0m\u001b[0m\n\u001b[0;32m-> 1198\u001b[0;31m         \u001b[0mret\u001b[0m \u001b[0;34m=\u001b[0m \u001b[0mself\u001b[0m\u001b[0;34m.\u001b[0m\u001b[0m_engine\u001b[0m\u001b[0;34m.\u001b[0m\u001b[0mread\u001b[0m\u001b[0;34m(\u001b[0m\u001b[0mnrows\u001b[0m\u001b[0;34m)\u001b[0m\u001b[0;34m\u001b[0m\u001b[0;34m\u001b[0m\u001b[0m\n\u001b[0m\u001b[1;32m   1199\u001b[0m \u001b[0;34m\u001b[0m\u001b[0m\n\u001b[1;32m   1200\u001b[0m         \u001b[0;31m# May alter columns / col_dict\u001b[0m\u001b[0;34m\u001b[0m\u001b[0;34m\u001b[0m\u001b[0;34m\u001b[0m\u001b[0m\n",
            "\u001b[0;32m/usr/local/lib/python3.7/dist-packages/pandas/io/parsers.py\u001b[0m in \u001b[0;36mread\u001b[0;34m(self, nrows)\u001b[0m\n\u001b[1;32m   2155\u001b[0m     \u001b[0;32mdef\u001b[0m \u001b[0mread\u001b[0m\u001b[0;34m(\u001b[0m\u001b[0mself\u001b[0m\u001b[0;34m,\u001b[0m \u001b[0mnrows\u001b[0m\u001b[0;34m=\u001b[0m\u001b[0;32mNone\u001b[0m\u001b[0;34m)\u001b[0m\u001b[0;34m:\u001b[0m\u001b[0;34m\u001b[0m\u001b[0;34m\u001b[0m\u001b[0m\n\u001b[1;32m   2156\u001b[0m         \u001b[0;32mtry\u001b[0m\u001b[0;34m:\u001b[0m\u001b[0;34m\u001b[0m\u001b[0;34m\u001b[0m\u001b[0m\n\u001b[0;32m-> 2157\u001b[0;31m             \u001b[0mdata\u001b[0m \u001b[0;34m=\u001b[0m \u001b[0mself\u001b[0m\u001b[0;34m.\u001b[0m\u001b[0m_reader\u001b[0m\u001b[0;34m.\u001b[0m\u001b[0mread\u001b[0m\u001b[0;34m(\u001b[0m\u001b[0mnrows\u001b[0m\u001b[0;34m)\u001b[0m\u001b[0;34m\u001b[0m\u001b[0;34m\u001b[0m\u001b[0m\n\u001b[0m\u001b[1;32m   2158\u001b[0m         \u001b[0;32mexcept\u001b[0m \u001b[0mStopIteration\u001b[0m\u001b[0;34m:\u001b[0m\u001b[0;34m\u001b[0m\u001b[0;34m\u001b[0m\u001b[0m\n\u001b[1;32m   2159\u001b[0m             \u001b[0;32mif\u001b[0m \u001b[0mself\u001b[0m\u001b[0;34m.\u001b[0m\u001b[0m_first_chunk\u001b[0m\u001b[0;34m:\u001b[0m\u001b[0;34m\u001b[0m\u001b[0;34m\u001b[0m\u001b[0m\n",
            "\u001b[0;32mpandas/_libs/parsers.pyx\u001b[0m in \u001b[0;36mpandas._libs.parsers.TextReader.read\u001b[0;34m()\u001b[0m\n",
            "\u001b[0;32mpandas/_libs/parsers.pyx\u001b[0m in \u001b[0;36mpandas._libs.parsers.TextReader._read_low_memory\u001b[0;34m()\u001b[0m\n",
            "\u001b[0;32mpandas/_libs/parsers.pyx\u001b[0m in \u001b[0;36mpandas._libs.parsers.TextReader._read_rows\u001b[0;34m()\u001b[0m\n",
            "\u001b[0;32mpandas/_libs/parsers.pyx\u001b[0m in \u001b[0;36mpandas._libs.parsers.TextReader._convert_column_data\u001b[0;34m()\u001b[0m\n",
            "\u001b[0;32mpandas/_libs/parsers.pyx\u001b[0m in \u001b[0;36mpandas._libs.parsers.TextReader._convert_tokens\u001b[0;34m()\u001b[0m\n",
            "\u001b[0;32mpandas/_libs/parsers.pyx\u001b[0m in \u001b[0;36mpandas._libs.parsers.TextReader._convert_with_dtype\u001b[0;34m()\u001b[0m\n",
            "\u001b[0;32m/usr/local/lib/python3.7/dist-packages/pandas/core/dtypes/common.py\u001b[0m in \u001b[0;36mis_categorical_dtype\u001b[0;34m(arr_or_dtype)\u001b[0m\n\u001b[1;32m    528\u001b[0m \u001b[0;34m\u001b[0m\u001b[0m\n\u001b[1;32m    529\u001b[0m \u001b[0;34m\u001b[0m\u001b[0m\n\u001b[0;32m--> 530\u001b[0;31m \u001b[0;32mdef\u001b[0m \u001b[0mis_categorical_dtype\u001b[0m\u001b[0;34m(\u001b[0m\u001b[0marr_or_dtype\u001b[0m\u001b[0;34m)\u001b[0m \u001b[0;34m->\u001b[0m \u001b[0mbool\u001b[0m\u001b[0;34m:\u001b[0m\u001b[0;34m\u001b[0m\u001b[0;34m\u001b[0m\u001b[0m\n\u001b[0m\u001b[1;32m    531\u001b[0m     \"\"\"\n\u001b[1;32m    532\u001b[0m     \u001b[0mCheck\u001b[0m \u001b[0mwhether\u001b[0m \u001b[0man\u001b[0m \u001b[0marray\u001b[0m\u001b[0;34m-\u001b[0m\u001b[0mlike\u001b[0m \u001b[0;32mor\u001b[0m \u001b[0mdtype\u001b[0m \u001b[0;32mis\u001b[0m \u001b[0mof\u001b[0m \u001b[0mthe\u001b[0m \u001b[0mCategorical\u001b[0m \u001b[0mdtype\u001b[0m\u001b[0;34m.\u001b[0m\u001b[0;34m\u001b[0m\u001b[0;34m\u001b[0m\u001b[0m\n",
            "\u001b[0;31mKeyboardInterrupt\u001b[0m: "
          ]
        }
      ]
    },
    {
      "cell_type": "code",
      "metadata": {
        "id": "VArA7LxSf3lg"
      },
      "source": [
        "df.emotion.unique() #diff emotion in dataset\n",
        "label_to_text = {0:'anger', 1:'disgust', 2:'fear', 3:'happiness', 4: 'sadness', 5: 'surprise', 6: 'neutral'} "
      ],
      "execution_count": null,
      "outputs": []
    },
    {
      "cell_type": "code",
      "metadata": {
        "id": "jm2xfPhZgCRL"
      },
      "source": [
        "pixarray = df.pixels.apply (lambda x : np.array(x.split(' ')).reshape(48,48,1).astype('float32')) #converting pixel lines into 48x48 numpy arrays"
      ],
      "execution_count": null,
      "outputs": []
    },
    {
      "cell_type": "code",
      "metadata": {
        "colab": {
          "base_uri": "https://localhost:8080/"
        },
        "id": "cQlW3-45jXzm",
        "outputId": "4eaab02b-5039-4426-f225-48dab25a2400"
      },
      "source": [
        "pixarray = np.stack(pixarray, axis = 0 ) #making the nparray 3 dimensional \n",
        "pixarray.shape"
      ],
      "execution_count": null,
      "outputs": [
        {
          "output_type": "execute_result",
          "data": {
            "text/plain": [
              "(35887, 48, 48, 1)"
            ]
          },
          "metadata": {
            "tags": []
          },
          "execution_count": 12
        }
      ]
    },
    {
      "cell_type": "code",
      "metadata": {
        "id": "jBG_sc0vj4bB"
      },
      "source": [
        "labels=df.emotion.values"
      ],
      "execution_count": null,
      "outputs": []
    },
    {
      "cell_type": "code",
      "metadata": {
        "colab": {
          "base_uri": "https://localhost:8080/"
        },
        "id": "beHNE_uvkMB2",
        "outputId": "31399563-82a6-4148-9496-28d4fcbe3dcd"
      },
      "source": [
        "X_train, X_test, y_train , y_test = train_test_split(pixarray,labels,test_size=.1)\n",
        "X_train.shape, y_train.shape , X_test.shape , y_test.shape"
      ],
      "execution_count": null,
      "outputs": [
        {
          "output_type": "execute_result",
          "data": {
            "text/plain": [
              "((32298, 48, 48, 1), (32298,), (3589, 48, 48, 1), (3589,))"
            ]
          },
          "metadata": {
            "tags": []
          },
          "execution_count": 14
        }
      ]
    },
    {
      "cell_type": "code",
      "metadata": {
        "id": "JW2x62bNlBuQ"
      },
      "source": [
        "X_train=X_train/255\n",
        "X_test = X_test/255"
      ],
      "execution_count": null,
      "outputs": []
    },
    {
      "cell_type": "code",
      "metadata": {
        "id": "SpxVHGy0lLyg"
      },
      "source": [
        "basemodel = tf.keras.models.Sequential([tf.keras.layers.Conv2D(32,(3,3),activation='relu',input_shape = (48,48,1)),\n",
        "                                        tf.keras.layers.MaxPool2D(2,2),                                       \n",
        "\n",
        "                                        tf.keras.layers.Conv2D(64,(3,3),activation='relu',input_shape = (48,48,1)),\n",
        "                                        tf.keras.layers.MaxPool2D(2,2),\n",
        "\n",
        "                                        tf.keras.layers.Conv2D(128,(3,3),activation='relu',input_shape = (48,48,1)),\n",
        "                                        tf.keras.layers.MaxPool2D(2,2),\n",
        "                                                          \n",
        "                                        tf.keras.layers.Flatten(),\n",
        "                                        tf.keras.layers.Dense(32,activation='relu'),\n",
        "                                        tf.keras.layers.Dense(16,activation='relu'),\n",
        "                                        tf.keras.layers.Dense(7,activation = 'softmax')                          \n",
        "                                        ])"
      ],
      "execution_count": null,
      "outputs": []
    },
    {
      "cell_type": "code",
      "metadata": {
        "colab": {
          "base_uri": "https://localhost:8080/"
        },
        "id": "3v6ayP8JlnLx",
        "outputId": "be0802fd-ac33-482a-81d6-77e40830f0c6"
      },
      "source": [
        "basemodel.compile(optimizer = 'adam',\n",
        "                  loss = \"sparse_categorical_crossentropy\",\n",
        "                  metrics=['accuracy'])\n",
        "basemodel.summary() "
      ],
      "execution_count": null,
      "outputs": [
        {
          "output_type": "stream",
          "text": [
            "Model: \"sequential_8\"\n",
            "_________________________________________________________________\n",
            "Layer (type)                 Output Shape              Param #   \n",
            "=================================================================\n",
            "conv2d_36 (Conv2D)           (None, 46, 46, 32)        320       \n",
            "_________________________________________________________________\n",
            "max_pooling2d_20 (MaxPooling (None, 23, 23, 32)        0         \n",
            "_________________________________________________________________\n",
            "conv2d_37 (Conv2D)           (None, 21, 21, 64)        18496     \n",
            "_________________________________________________________________\n",
            "max_pooling2d_21 (MaxPooling (None, 10, 10, 64)        0         \n",
            "_________________________________________________________________\n",
            "conv2d_38 (Conv2D)           (None, 8, 8, 128)         73856     \n",
            "_________________________________________________________________\n",
            "max_pooling2d_22 (MaxPooling (None, 4, 4, 128)         0         \n",
            "_________________________________________________________________\n",
            "flatten_8 (Flatten)          (None, 2048)              0         \n",
            "_________________________________________________________________\n",
            "dense_24 (Dense)             (None, 32)                65568     \n",
            "_________________________________________________________________\n",
            "dense_25 (Dense)             (None, 16)                528       \n",
            "_________________________________________________________________\n",
            "dense_26 (Dense)             (None, 7)                 119       \n",
            "=================================================================\n",
            "Total params: 158,887\n",
            "Trainable params: 158,887\n",
            "Non-trainable params: 0\n",
            "_________________________________________________________________\n"
          ],
          "name": "stdout"
        }
      ]
    },
    {
      "cell_type": "code",
      "metadata": {
        "id": "5ArggeJHDKUS",
        "colab": {
          "base_uri": "https://localhost:8080/"
        },
        "outputId": "5ac581b9-7038-44b0-ef00-9e61d3558882"
      },
      "source": [
        "basemodel.fit(X_train,y_train,epochs=25,validation_split=0.33)"
      ],
      "execution_count": null,
      "outputs": [
        {
          "output_type": "stream",
          "text": [
            "Epoch 1/25\n",
            "677/677 [==============================] - 4s 6ms/step - loss: 1.8221 - accuracy: 0.2639 - val_loss: 1.5864 - val_accuracy: 0.3863\n",
            "Epoch 2/25\n",
            "677/677 [==============================] - 4s 5ms/step - loss: 1.5415 - accuracy: 0.3935 - val_loss: 1.4348 - val_accuracy: 0.4356\n",
            "Epoch 3/25\n",
            "677/677 [==============================] - 4s 5ms/step - loss: 1.4079 - accuracy: 0.4423 - val_loss: 1.3892 - val_accuracy: 0.4559\n",
            "Epoch 4/25\n",
            "677/677 [==============================] - 4s 5ms/step - loss: 1.3287 - accuracy: 0.4823 - val_loss: 1.3233 - val_accuracy: 0.4829\n",
            "Epoch 5/25\n",
            "677/677 [==============================] - 4s 5ms/step - loss: 1.2786 - accuracy: 0.5018 - val_loss: 1.3138 - val_accuracy: 0.4922\n",
            "Epoch 6/25\n",
            "677/677 [==============================] - 4s 5ms/step - loss: 1.2174 - accuracy: 0.5209 - val_loss: 1.2993 - val_accuracy: 0.5028\n",
            "Epoch 7/25\n",
            "677/677 [==============================] - 4s 5ms/step - loss: 1.1776 - accuracy: 0.5416 - val_loss: 1.2890 - val_accuracy: 0.5003\n",
            "Epoch 8/25\n",
            "677/677 [==============================] - 4s 5ms/step - loss: 1.1313 - accuracy: 0.5616 - val_loss: 1.2911 - val_accuracy: 0.5137\n",
            "Epoch 9/25\n",
            "677/677 [==============================] - 4s 5ms/step - loss: 1.0710 - accuracy: 0.5905 - val_loss: 1.2749 - val_accuracy: 0.5160\n",
            "Epoch 10/25\n",
            "677/677 [==============================] - 4s 5ms/step - loss: 1.0177 - accuracy: 0.6140 - val_loss: 1.2763 - val_accuracy: 0.5253\n",
            "Epoch 11/25\n",
            "677/677 [==============================] - 4s 5ms/step - loss: 1.0021 - accuracy: 0.6206 - val_loss: 1.2789 - val_accuracy: 0.5337\n",
            "Epoch 12/25\n",
            "677/677 [==============================] - 4s 5ms/step - loss: 0.9453 - accuracy: 0.6419 - val_loss: 1.2785 - val_accuracy: 0.5291\n",
            "Epoch 13/25\n",
            "677/677 [==============================] - 4s 5ms/step - loss: 0.8875 - accuracy: 0.6664 - val_loss: 1.3594 - val_accuracy: 0.5155\n",
            "Epoch 14/25\n",
            "677/677 [==============================] - 4s 5ms/step - loss: 0.8656 - accuracy: 0.6758 - val_loss: 1.3356 - val_accuracy: 0.5268\n",
            "Epoch 15/25\n",
            "677/677 [==============================] - 4s 5ms/step - loss: 0.8336 - accuracy: 0.6869 - val_loss: 1.3992 - val_accuracy: 0.5243\n",
            "Epoch 16/25\n",
            "677/677 [==============================] - 4s 5ms/step - loss: 0.8060 - accuracy: 0.6952 - val_loss: 1.3808 - val_accuracy: 0.5306\n",
            "Epoch 17/25\n",
            "677/677 [==============================] - 4s 5ms/step - loss: 0.7587 - accuracy: 0.7182 - val_loss: 1.4180 - val_accuracy: 0.5217\n",
            "Epoch 18/25\n",
            "677/677 [==============================] - 4s 5ms/step - loss: 0.7210 - accuracy: 0.7300 - val_loss: 1.4344 - val_accuracy: 0.5275\n",
            "Epoch 19/25\n",
            "677/677 [==============================] - 4s 5ms/step - loss: 0.7029 - accuracy: 0.7377 - val_loss: 1.5074 - val_accuracy: 0.5256\n",
            "Epoch 20/25\n",
            "677/677 [==============================] - 4s 5ms/step - loss: 0.6471 - accuracy: 0.7615 - val_loss: 1.5670 - val_accuracy: 0.5259\n",
            "Epoch 21/25\n",
            "677/677 [==============================] - 4s 5ms/step - loss: 0.6275 - accuracy: 0.7678 - val_loss: 1.6224 - val_accuracy: 0.5162\n",
            "Epoch 22/25\n",
            "677/677 [==============================] - 4s 5ms/step - loss: 0.5872 - accuracy: 0.7821 - val_loss: 1.6543 - val_accuracy: 0.5292\n",
            "Epoch 23/25\n",
            "677/677 [==============================] - 4s 5ms/step - loss: 0.5615 - accuracy: 0.7917 - val_loss: 1.7460 - val_accuracy: 0.5229\n",
            "Epoch 24/25\n",
            "677/677 [==============================] - 4s 5ms/step - loss: 0.5277 - accuracy: 0.8028 - val_loss: 1.7458 - val_accuracy: 0.5278\n",
            "Epoch 25/25\n",
            "677/677 [==============================] - 4s 5ms/step - loss: 0.5148 - accuracy: 0.8086 - val_loss: 1.7896 - val_accuracy: 0.5254\n"
          ],
          "name": "stdout"
        },
        {
          "output_type": "execute_result",
          "data": {
            "text/plain": [
              "<tensorflow.python.keras.callbacks.History at 0x7f549432a850>"
            ]
          },
          "metadata": {
            "tags": []
          },
          "execution_count": 44
        }
      ]
    },
    {
      "cell_type": "code",
      "metadata": {
        "id": "lPKbh2DDDY0X"
      },
      "source": [
        "basemodel.save(\"best.h5\")"
      ],
      "execution_count": null,
      "outputs": []
    },
    {
      "cell_type": "code",
      "metadata": {
        "id": "FjMtQoXLBRTR"
      },
      "source": [
        "from IPython import display"
      ],
      "execution_count": null,
      "outputs": []
    },
    {
      "cell_type": "code",
      "metadata": {
        "id": "wQA-8C6XJU5Z"
      },
      "source": [
        "def show_emoji(x):\n",
        "  if x == 0:\n",
        "    img = display.Image(url = \"https://images.emojiterra.com/twitter/v13.0/512px/1f620.png\", width = 200)\n",
        "  elif x == 1:\n",
        "    img = display.Image(url = \"https://images.emojiterra.com/openmoji/v12.2/512px/1f922.png\", width = 250)\n",
        "  elif x == 2:\n",
        "    img = display.Image(url = \"https://images.emojiterra.com/google/android-11/512px/1f628.png\", width = 200)\n",
        "  elif x == 3:\n",
        "    img = display.Image(url = \"https://images.emojiterra.com/twitter/v13.0/512px/1f604.png\", width = 200)\n",
        "  elif x == 4:\n",
        "    img = display.Image(url = \"https://images.emojiterra.com/twitter/v13.0/512px/1f622.png\", width = 200)\n",
        "  elif x == 5:\n",
        "    img = display.Image(url = \"https://images.emojiterra.com/twitter/v13.0/512px/1f62f.png\", width = 200)\n",
        "  elif x == 6:\n",
        "    img = display.Image(url = \"https://images.emojiterra.com/twitter/v13.0/512px/1f610.png\", width = 200)\n",
        "\n",
        "  display.display(img)\n",
        "    "
      ],
      "execution_count": null,
      "outputs": []
    }
  ]
}